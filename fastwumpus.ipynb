{
  "nbformat": 4,
  "nbformat_minor": 0,
  "metadata": {
    "colab": {
      "provenance": [],
      "authorship_tag": "ABX9TyM2WveB0nfJvcQIYUJqjki2",
      "include_colab_link": true
    },
    "kernelspec": {
      "name": "python3",
      "display_name": "Python 3"
    },
    "language_info": {
      "name": "python"
    }
  },
  "cells": [
    {
      "cell_type": "markdown",
      "metadata": {
        "id": "view-in-github",
        "colab_type": "text"
      },
      "source": [
        "<a href=\"https://colab.research.google.com/github/marcosgtavares/P1FDR/blob/main/fastwumpus.ipynb\" target=\"_parent\"><img src=\"https://colab.research.google.com/assets/colab-badge.svg\" alt=\"Open In Colab\"/></a>"
      ]
    },
    {
      "cell_type": "code",
      "execution_count": 1,
      "metadata": {
        "colab": {
          "base_uri": "https://localhost:8080/"
        },
        "id": "p_gyM0V-18db",
        "outputId": "bfdd9ba7-765f-4b93-d2f4-983d6714c04c"
      },
      "outputs": [
        {
          "output_type": "stream",
          "name": "stdout",
          "text": [
            "Looking in indexes: https://pypi.org/simple, https://us-python.pkg.dev/colab-wheels/public/simple/\n",
            "Collecting python-sat\n",
            "  Downloading python_sat-0.1.8.dev3-cp39-cp39-manylinux_2_5_x86_64.manylinux1_x86_64.manylinux_2_12_x86_64.manylinux2010_x86_64.whl (2.0 MB)\n",
            "\u001b[2K     \u001b[90m━━━━━━━━━━━━━━━━━━━━━━━━━━━━━━━━━━━━━━━━\u001b[0m \u001b[32m2.0/2.0 MB\u001b[0m \u001b[31m24.8 MB/s\u001b[0m eta \u001b[36m0:00:00\u001b[0m\n",
            "\u001b[?25hRequirement already satisfied: six in /usr/local/lib/python3.9/dist-packages (from python-sat) (1.16.0)\n",
            "Installing collected packages: python-sat\n",
            "Successfully installed python-sat-0.1.8.dev3\n"
          ]
        }
      ],
      "source": [
        "!pip install python-sat\n"
      ]
    },
    {
      "cell_type": "code",
      "source": [
        "from pysat.formula import CNF\n",
        "from pysat.solvers import Solver\n",
        "from sys import exit\n",
        "import itertools\n",
        "import math\n",
        "\n",
        "def convertIntToNatural(integer: int):\n",
        "  if integer >= 0:\n",
        "    return 2*integer\n",
        "  else:\n",
        "    return -2*integer - 1\n",
        "\n",
        "def convertCoordinateToSymbol(coordinate: tuple[int, int], symbolType: int) -> int:#Cantor pairing function\n",
        "  xPlusY = convertIntToNatural(coordinate[0]) + convertIntToNatural(coordinate[1])\n",
        "  \n",
        "  return int(f'{symbolType}{int((xPlusY)*(xPlusY + 1)/2 + convertIntToNatural(coordinate[1]))}')\n",
        "# def convertSymbolToCoordinate(coordinate: int) -> tuple[int, int]:\n",
        "#   strNum = str(abs(coordinate))\n",
        "#   return (int(strNum[1] + strNum[2]), int(strNum[3] + strNum[4]))\n",
        "  #return (int(abs(coordinate)%1/100), abs(coordinate)%100)\n",
        "def getSymbol(coordinate: int) -> int:\n",
        "  strNum = str(abs(coordinate))\n",
        "  return int(strNum[0])\n",
        "\n",
        "wumpusFound = -1 #if wumpus is found remove wumpus related clauses\n",
        "\n",
        "def addClauses(coordinate: tuple[int, int], visited: list[tuple[int, int]], kb: list[list[int]]): #, kb: list[list[int]]\n",
        "    #kb[0].extend([convertCoordinateToSymbol(coord) for coord in adjCoordinates(coordinate,visited,[],[])])\n",
        "    pitClauses = [[-convertCoordinateToSymbol(coordinate, 1), #BREEZE 1 PIT 2\n",
        "      convertCoordinateToSymbol((coordinate[0]-1, coordinate[1]), 2), \n",
        "      convertCoordinateToSymbol((coordinate[0]+1, coordinate[1]), 2), \n",
        "      convertCoordinateToSymbol((coordinate[0], coordinate[1]-1), 2),\n",
        "      convertCoordinateToSymbol((coordinate[0], coordinate[1]+1), 2)],\n",
        "      [convertCoordinateToSymbol(coordinate, 1), -convertCoordinateToSymbol((coordinate[0]-1, coordinate[1]), 2)],\n",
        "      [convertCoordinateToSymbol(coordinate, 1), -convertCoordinateToSymbol((coordinate[0]+1, coordinate[1]), 2)],\n",
        "      [convertCoordinateToSymbol(coordinate, 1), -convertCoordinateToSymbol((coordinate[0], coordinate[1]-1), 2)],\n",
        "      [convertCoordinateToSymbol(coordinate, 1), -convertCoordinateToSymbol((coordinate[0], coordinate[1]+1), 2)]]\n",
        "\n",
        "    kb.extend(pitClauses)    \n",
        "    solver.append_formula(pitClauses)\n",
        "    \n",
        "    global wumpusFound\n",
        "    if wumpusFound == -1:\n",
        "      solver.append_formula([[-convertCoordinateToSymbol(coordinate, 3), #STENCH 3 WUMPUS 4\n",
        "        convertCoordinateToSymbol((coordinate[0]-1, coordinate[1]), 4), \n",
        "        convertCoordinateToSymbol((coordinate[0]+1, coordinate[1]), 4), \n",
        "        convertCoordinateToSymbol((coordinate[0], coordinate[1]-1), 4),\n",
        "        convertCoordinateToSymbol((coordinate[0], coordinate[1]+1), 4)],\n",
        "        [convertCoordinateToSymbol(coordinate, 3), -convertCoordinateToSymbol((coordinate[0]-1, coordinate[1]), 4)],\n",
        "        [convertCoordinateToSymbol(coordinate, 3), -convertCoordinateToSymbol((coordinate[0]+1, coordinate[1]), 4)],\n",
        "        [convertCoordinateToSymbol(coordinate, 3), -convertCoordinateToSymbol((coordinate[0], coordinate[1]-1), 4)],\n",
        "        [convertCoordinateToSymbol(coordinate, 3), -convertCoordinateToSymbol((coordinate[0], coordinate[1]+1), 4)]])\n",
        "    # global wumpusFound\n",
        "    # if wumpusFound == -1:\n",
        "    #   kb.extend([[-convertCoordinateToSymbol(coordinate, 3), #STENCH 3 WUMPUS 4\n",
        "    #   convertCoordinateToSymbol((coordinate[0]-1, coordinate[1]), 4), \n",
        "    #   convertCoordinateToSymbol((coordinate[0]+1, coordinate[1]), 4), \n",
        "    #   convertCoordinateToSymbol((coordinate[0], coordinate[1]-1), 4),\n",
        "    #   convertCoordinateToSymbol((coordinate[0], coordinate[1]+1), 4)],\n",
        "    #   [convertCoordinateToSymbol(coordinate, 3), -convertCoordinateToSymbol((coordinate[0]-1, coordinate[1]), 4)],\n",
        "    #   [convertCoordinateToSymbol(coordinate, 3), -convertCoordinateToSymbol((coordinate[0]+1, coordinate[1]), 4)],\n",
        "    #   [convertCoordinateToSymbol(coordinate, 3), -convertCoordinateToSymbol((coordinate[0], coordinate[1]-1), 4)],\n",
        "    #   [convertCoordinateToSymbol(coordinate, 3), -convertCoordinateToSymbol((coordinate[0], coordinate[1]+1), 4)]])\n",
        "\n",
        "def adjCoordinates(coordinate: tuple[int, int], visited: list[tuple[int, int]], queue: list[tuple[int, int]], danger: list[tuple[int, int]]) -> list[tuple[int, int]]:\n",
        "  adjCoord = []\n",
        "  left = (coordinate[0], coordinate[1]-1)\n",
        "  up = (coordinate[0]-1, coordinate[1])\n",
        "  right = (coordinate[0], coordinate[1]+1)\n",
        "  down = (coordinate[0]+1, coordinate[1])\n",
        "  \n",
        "  unitedvqd = visited + queue + danger\n",
        "\n",
        "  if left not in unitedvqd:\n",
        "    ##print(\"left\")\n",
        "    adjCoord.append(left)\n",
        "  \n",
        "  if up not in unitedvqd:\n",
        "    ##print(\"up\")\n",
        "    adjCoord.append(up)\n",
        " \n",
        "  if right not in unitedvqd:\n",
        "    ##print(\"rigth\")\n",
        "    adjCoord.append(right)\n",
        " \n",
        "  if down not in unitedvqd:\n",
        "    ##print(\"down\")\n",
        "    adjCoord.append(down)\n",
        "  \n",
        "  return adjCoord\n",
        "\n",
        "solver = Solver()\n",
        "\n",
        "def uptadeSolver(kb: list[list[int]]):\n",
        "  global solver\n",
        "  cnf = CNF(from_clauses=kb)\n",
        "  solver.delete()\n",
        "  solver = Solver(bootstrap_with=cnf)\n",
        "  return solver\n",
        "\n",
        "def temPoco(coordinate: tuple[int, int]) -> bool:\n",
        "  global solver\n",
        "  return not solver.solve(assumptions=[-convertCoordinateToSymbol(coordinate, 2)])\n",
        "\n",
        "def naoTemPoco(coordinate: tuple[int, int]) -> bool:\n",
        "  global solver\n",
        "  return not solver.solve(assumptions=[convertCoordinateToSymbol(coordinate, 2)])\n",
        "\n",
        "def temWumpus(coordinate: tuple[int, int]) -> bool:\n",
        "  if wumpusFound == coordinate:\n",
        "    return True\n",
        "  if wumpusFound != -1:\n",
        "    return False\n",
        "\n",
        "  global solver\n",
        "  return not solver.solve(assumptions=[-convertCoordinateToSymbol(coordinate, 4)])\n",
        "\n",
        "def naoTemWumpus(coordinate: tuple[int, int]) -> bool:\n",
        "  if wumpusFound != -1 and coordinate != wumpusFound:\n",
        "    return True\n",
        "  if wumpusFound == coordinate:\n",
        "    return False\n",
        "\n",
        "  global solver\n",
        "  return not solver.solve(assumptions=[convertCoordinateToSymbol(coordinate, 4)])\n",
        "\n",
        "def removeWumpusClauses(kb: list[list[int]]):\n",
        "  range = 0\n",
        "  while range < len(kb):\n",
        "    if getSymbol(abs(kb[range][0])) in [3, 4]:\n",
        "      kb.remove(kb[range])\n",
        "      range-=1\n",
        "    range +=1\n",
        "  uptadeSolver(kb)\n",
        "\n",
        "lastQueue = -1\n",
        "actualQueue = 0\n",
        "def addOneWumpusClauses(adjList: list[tuple[int, int]]):#kb,\n",
        "  global lastQueue\n",
        "  global actualQueue\n",
        "  actualQueue = len(adjList) - 1\n",
        "  if actualQueue - lastQueue >= 2:\n",
        "    for combination in itertools.combinations(adjList[lastQueue + 1:], 2):\n",
        "      solver.add_clause([-convertCoordinateToSymbol(combination[0], 4), -convertCoordinateToSymbol(combination[1], 4)])\n",
        "  \n",
        "  for adj in adjList[:lastQueue + 1]:\n",
        "    for adj2 in adjList[lastQueue + 1:]:\n",
        "      solver.add_clause([-convertCoordinateToSymbol(adj, 4), -convertCoordinateToSymbol(adj2, 4)])\n",
        "  lastQueue = actualQueue\n",
        "  \n",
        "start = (0, 0)\n",
        "def sensor(coordinate: tuple[int, int], coordinate2: tuple[int, int]) -> tuple[bool, list[str]]:\n",
        "  map = [[\"N\",\"N\",\"N\",\"B\",\"N\",\"N\",\"N\"],\n",
        "         [\"N\",\"N\",\"B\",\"P\",\"B\",\"N\",\"N\"],\n",
        "         [\"N\",\"N\",\"N\",\"B\",\"N\",\"N\",\"N\"],\n",
        "         [\"N\",\"N\",\"N\",\"N\",\"N\",\"B\",\"N\"],\n",
        "         [\"N\",\"B\",\"N\",\"N\",\"B\",\"P\",\"B\"],\n",
        "         [\"B\",\"P\",\"B\",\"N\",\"N\",\"B\",\"N\"],\n",
        "         [\"N\",\"B\",\"N\",\"N\",\"N\",\"N\",\"N\"],\n",
        "         [\"N\",\"N\",\"N\",\"N\",\"N\",\"L\",\"L\"],\n",
        "         [\"N\",\"B\",\"N\",\"N\",\"B\",\"P\",\"N\"],\n",
        "         [\"B\",\"P\",\"B\",\"N\",\"N\",\"L\",\"L\"],\n",
        "         [\"N\",\"B\",\"N\",\"N\",\"N\",\"N\",\"N\"],\n",
        "         [\"N\",\"N\",\"B\",\"N\",\"N\",\"N\",\"N\"],\n",
        "         [\"N\",\"B\",\"P\",\"B\",\"N\",\"N\",\"N\"],\n",
        "         [\"N\",\"N\",\"B\",\"N\",\"N\",\"N\",\"N\"],\n",
        "         [\"N\",\"N\",\"N\",\"N\",\"N\",\"N\",\"N\"],\n",
        "         [\"N\",\"B\",\"N\",\"N\",\"N\",\"N\",\"N\"],\n",
        "         [\"B\",\"P\",\"B\",\"N\",\"N\",\"B\",\"N\"],\n",
        "         [\"N\",\"B\",\"N\",\"N\",\"B\",\"P\",\"B\"],\n",
        "         [\"N\",\"S\",\"N\",\"N\",\"N\",\"B\",\"N\"],\n",
        "         [\"S\",\"W\",\"S\",\"N\",\"N\",\"N\",\"N\"],\n",
        "         [\"G\",\"S\",\"N\",\"N\",\"N\",\"N\",\"N\"]]\n",
        " \n",
        "  global start\n",
        "  movement = (coordinate[0] - coordinate2[0], coordinate[1] - coordinate2[1])\n",
        "  \n",
        "  if start[0] - movement[0] < 0 or start[0] - movement[0] > 20 or start[1] - movement[1] < 0 or start[1] - movement[1] > 6: #Must change according map size\n",
        "    #print(\"impossible\")\n",
        "    return False, [\"\"]\n",
        "  if map[start[0] - movement[0]][start[1] - movement[1]] == \"L\":\n",
        "    #print(\"L\")\n",
        "    return False, [\"\"]\n",
        "  \n",
        "  start = (start[0] - movement[0], start[1] - movement[1])\n",
        "  \n",
        "  return True, [map[start[0]][start[1]]]\n",
        "  \n",
        "def visitCoordinate(coordinate: tuple[int, int], coordinate2: tuple[int, int], kb: list[list[int]]) -> bool: #, queue: list[tuple[int, int]], visited: list[tuple[int, int]], danger: list[tuple[int, int]]\n",
        "  possible, sensed = sensor(coordinate, coordinate2)\n",
        "\n",
        "  global wumpusFound\n",
        "  ##print(\"possible\")\n",
        "  ##print(start)\n",
        "  ##print(map[start[0]][start[1]])\n",
        "  ##print((coordinate, coordinate2))\n",
        "  #vlist.append(start)\n",
        "  if not possible:\n",
        "    solver.add_clause([-convertCoordinateToSymbol(coordinate2, 2)])\n",
        "    if wumpusFound == -1:\n",
        "      solver.add_clause([-convertCoordinateToSymbol(coordinate2, 4)])\n",
        "    kb.append([-convertCoordinateToSymbol(coordinate2, 2)])\n",
        "    return possible\n",
        "  if sensed[0] == \"B\":\n",
        "    solver.add_clause([convertCoordinateToSymbol(coordinate2, 1)])\n",
        "    kb.append([convertCoordinateToSymbol(coordinate2, 1)])\n",
        "  else:\n",
        "    solver.add_clause([-convertCoordinateToSymbol(coordinate2, 1)])\n",
        "    kb.append([-convertCoordinateToSymbol(coordinate2, 1)])\n",
        "  if wumpusFound == -1 and sensed[0] == \"S\":\n",
        "    #print(\"sS\")\n",
        "    solver.add_clause([convertCoordinateToSymbol(coordinate2, 3)])\n",
        "    solver.add_clause([-convertCoordinateToSymbol(coordinate2, 4)])\n",
        "  elif wumpusFound == -1:\n",
        "    solver.add_clause([-convertCoordinateToSymbol(coordinate2, 3)])\n",
        "    solver.add_clause([-convertCoordinateToSymbol(coordinate2, 4)])\n",
        "\n",
        "  if sensed[0] == \"G\":\n",
        "    ##print(\"VITORIA\")\n",
        "    exit()\n",
        "  print(sensed[0])\n",
        "  solver.add_clause([-convertCoordinateToSymbol(coordinate2, 2)])\n",
        "  kb.append([-convertCoordinateToSymbol(coordinate2, 2)])\n",
        "    ##print(\"visit\")\n",
        "  return possible\n",
        "\n",
        "def atleastonewumpus():\n",
        "  clauses = []\n",
        "  for x in range(0, 99):\n",
        "    for y in range(0, 99):\n",
        "      clauses.append(convertCoordinateToSymbol((x ,y), 4))\n",
        "  solver.add_clause(clauses)\n"
      ],
      "metadata": {
        "id": "t7uQZ-7vW8qu"
      },
      "execution_count": 17,
      "outputs": []
    },
    {
      "cell_type": "code",
      "source": [
        "pos = (0, 0)\n",
        "visited = []\n",
        "danger = []\n",
        "queue = []\n",
        "visited.append(pos)\n",
        "queue = adjCoordinates(pos, visited, danger, queue)\n",
        "uniqueQueue = queue[:]\n",
        "kb = [[-convertCoordinateToSymbol(pos, 1)], [-convertCoordinateToSymbol(pos, 2)]]\n",
        "solver.append_formula([[-convertCoordinateToSymbol(pos, 1)], [-convertCoordinateToSymbol(pos, 2)], [-convertCoordinateToSymbol(pos, 3)], [-convertCoordinateToSymbol(pos, 4)]])\n",
        "addClauses(pos, visited, kb)\n",
        "counter = 0\n",
        "reallyStuck = False\n",
        "while queue:\n",
        "  ##print(kb)\n",
        "  #print(queue)\n",
        "  newpos = queue.pop(0)\n",
        "  ##print(newpos)\n",
        "  if temWumpus(newpos): #When wumpus is found, remove wumpus and stench clauses. kb contains only pit and breeze clauses.\n",
        "    #print(\"w\")\n",
        "    wumpusFound = newpos\n",
        "    uptadeSolver(kb)\n",
        "    solver.add_clause([-convertCoordinateToSymbol(newpos, 2)])\n",
        "    danger.append(newpos)\n",
        "    counter -= 1\n",
        "  elif temPoco(newpos):\n",
        "    #print(\"s\")\n",
        "    solver.add_clause([convertCoordinateToSymbol(newpos, 2)])\n",
        "    kb.append([convertCoordinateToSymbol(newpos, 2)])\n",
        "    if wumpusFound == -1:\n",
        "      solver.add_clause([-convertCoordinateToSymbol(newpos, 4)])\n",
        "    danger.append(newpos)\n",
        "    counter -= 1\n",
        "  elif naoTemWumpus(newpos) and naoTemPoco(newpos) :\n",
        "    #print(\"n\")\n",
        "    #pos = moveto(newpos, pos, visited)\n",
        "    if visitCoordinate(pos, newpos, kb): #, kb\n",
        "      #print(\"in\")\n",
        "      addClauses(newpos, visited, kb)\n",
        "      visited.append(newpos)\n",
        "      aditionsQueue = adjCoordinates(newpos, visited, queue, danger)\n",
        "      queue.extend(aditionsQueue)\n",
        "      uniqueQueue.extend(aditionsQueue)\n",
        "      pos = newpos\n",
        "      counter -= 1\n",
        "  else:\n",
        "    if wumpusFound == -1:\n",
        "      addOneWumpusClauses(uniqueQueue)\n",
        "      #print(\"nothing\")\n",
        "\n",
        "    counter +=1\n",
        "    if counter > 30:#\n",
        "      if wumpusFound != -1 or reallyStuck:#Give up if wumpus found and really stuck, otherwhise add at least one wumpus in the world clause an try again\n",
        "        break\n",
        "      solver.add_clause([convertCoordinateToSymbol(x, 4) for x in uniqueQueue])\n",
        "      counter = 0\n",
        "      reallyStuck = True\n",
        "      break\n",
        "    #print(\"m\")\n",
        "    queue.append(newpos)"
      ],
      "metadata": {
        "id": "hGhAuKc02Qa8"
      },
      "execution_count": null,
      "outputs": []
    },
    {
      "cell_type": "code",
      "source": [
        "map = [[\"N\",\"N\",\"N\",\"B\",\"N\",\"N\",\"N\"],\n",
        "        [\"N\",\"N\",\"B\",\"P\",\"B\",\"N\",\"N\"],\n",
        "        [\"N\",\"N\",\"N\",\"B\",\"N\",\"N\",\"N\"],\n",
        "        [\"N\",\"N\",\"N\",\"N\",\"N\",\"B\",\"N\"],\n",
        "        [\"N\",\"B\",\"N\",\"N\",\"B\",\"P\",\"B\"],\n",
        "        [\"B\",\"P\",\"B\",\"N\",\"N\",\"B\",\"N\"],\n",
        "        [\"N\",\"B\",\"N\",\"N\",\"N\",\"N\",\"N\"],\n",
        "        [\"N\",\"N\",\"N\",\"N\",\"N\",\"L\",\"L\"],\n",
        "        [\"N\",\"B\",\"N\",\"N\",\"S\",\"W\",\"N\"],\n",
        "        [\"B\",\"P\",\"B\",\"N\",\"N\",\"L\",\"L\"],\n",
        "        [\"N\",\"B\",\"N\",\"N\",\"N\",\"N\",\"N\"],\n",
        "        [\"N\",\"N\",\"B\",\"N\",\"N\",\"N\",\"N\"],\n",
        "        [\"N\",\"B\",\"P\",\"B\",\"N\",\"N\",\"N\"],\n",
        "        [\"N\",\"N\",\"B\",\"N\",\"N\",\"N\",\"N\"],\n",
        "        [\"N\",\"N\",\"N\",\"N\",\"N\",\"N\",\"N\"],\n",
        "        [\"N\",\"B\",\"N\",\"N\",\"N\",\"N\",\"N\"],\n",
        "        [\"B\",\"P\",\"B\",\"N\",\"N\",\"B\",\"N\"],\n",
        "        [\"N\",\"B\",\"N\",\"N\",\"B\",\"P\",\"B\"],\n",
        "        [\"N\",\"N\",\"N\",\"N\",\"N\",\"B\",\"N\"],\n",
        "        [\"N\",\"N\",\"N\",\"N\",\"N\",\"N\",\"N\"],\n",
        "        [\"G\",\"N\",\"N\",\"N\",\"N\",\"N\",\"N\"]]\n",
        "map[8][5]"
      ],
      "metadata": {
        "id": "QtXQolPNJsh4",
        "outputId": "d9a6f266-7a61-424d-ea23-b10afb4d0d30",
        "colab": {
          "base_uri": "https://localhost:8080/",
          "height": 36
        }
      },
      "execution_count": 103,
      "outputs": [
        {
          "output_type": "execute_result",
          "data": {
            "text/plain": [
              "'W'"
            ],
            "application/vnd.google.colaboratory.intrinsic+json": {
              "type": "string"
            }
          },
          "metadata": {},
          "execution_count": 103
        }
      ]
    },
    {
      "cell_type": "code",
      "source": [
        "import time\n",
        "tem = 0\n",
        "for i in range(0, 1):\n",
        "  tempo = time.time()\n",
        "  solver.solve()\n",
        "  tem += time.time() - tempo\n",
        "\n",
        "print(tem/1)"
      ],
      "metadata": {
        "colab": {
          "base_uri": "https://localhost:8080/"
        },
        "id": "Ko3WCdRB9vXR",
        "outputId": "428d6e17-e024-4276-af9c-a4a0df3de721"
      },
      "execution_count": 260,
      "outputs": [
        {
          "output_type": "stream",
          "name": "stdout",
          "text": [
            "0.0012899203300476075\n"
          ]
        }
      ]
    },
    {
      "cell_type": "code",
      "source": [
        "def intersection(lst1, lst2):\n",
        "    lst3 = [value for value in lst1 if value in lst2]\n",
        "    return lst3\n",
        "intersection(visited, danger)"
      ],
      "metadata": {
        "colab": {
          "base_uri": "https://localhost:8080/"
        },
        "id": "ZrFhMfFS7ktF",
        "outputId": "f122391d-a341-4770-ce32-457f0bafb1e4"
      },
      "execution_count": null,
      "outputs": [
        {
          "output_type": "execute_result",
          "data": {
            "text/plain": [
              "[]"
            ]
          },
          "metadata": {},
          "execution_count": 71
        }
      ]
    },
    {
      "cell_type": "code",
      "source": [
        "for x in visited:\n",
        "  #print(x[0]-47, x[1]-47)"
      ],
      "metadata": {
        "colab": {
          "base_uri": "https://localhost:8080/"
        },
        "id": "gdmrK3mjENEB",
        "outputId": "b7786027-a171-4daf-edc7-8fda140d2d43"
      },
      "execution_count": null,
      "outputs": [
        {
          "output_type": "stream",
          "name": "stdout",
          "text": [
            "3 3\n",
            "3 2\n",
            "2 3\n",
            "3 1\n",
            "2 2\n",
            "3 0\n",
            "1 2\n",
            "2 0\n"
          ]
        }
      ]
    },
    {
      "cell_type": "code",
      "source": [
        "uniqueall"
      ],
      "metadata": {
        "colab": {
          "base_uri": "https://localhost:8080/",
          "height": 171
        },
        "id": "__ifGPxEtW1D",
        "outputId": "980f7fa1-57c7-4156-d7b8-0ab96cfb19eb"
      },
      "execution_count": null,
      "outputs": [
        {
          "output_type": "error",
          "ename": "NameError",
          "evalue": "ignored",
          "traceback": [
            "\u001b[0;31m---------------------------------------------------------------------------\u001b[0m",
            "\u001b[0;31mNameError\u001b[0m                                 Traceback (most recent call last)",
            "\u001b[0;32m<ipython-input-60-48a9d666ca12>\u001b[0m in \u001b[0;36m<cell line: 1>\u001b[0;34m()\u001b[0m\n\u001b[0;32m----> 1\u001b[0;31m \u001b[0muniqueall\u001b[0m\u001b[0;34m\u001b[0m\u001b[0;34m\u001b[0m\u001b[0m\n\u001b[0m",
            "\u001b[0;31mNameError\u001b[0m: name 'uniqueall' is not defined"
          ]
        }
      ]
    },
    {
      "cell_type": "code",
      "source": [
        "wf"
      ],
      "metadata": {
        "colab": {
          "base_uri": "https://localhost:8080/"
        },
        "id": "efrhGtEYtI_t",
        "outputId": "3f279ff0-e834-41c9-8fb6-a366e3759f3d"
      },
      "execution_count": 108,
      "outputs": [
        {
          "output_type": "execute_result",
          "data": {
            "text/plain": [
              "(55, 52)"
            ]
          },
          "metadata": {},
          "execution_count": 108
        }
      ]
    },
    {
      "cell_type": "code",
      "source": [
        "len(visited)"
      ],
      "metadata": {
        "colab": {
          "base_uri": "https://localhost:8080/"
        },
        "id": "x9CUCc0YW0H4",
        "outputId": "ce38afd8-21c7-4747-d777-3acadc9e983f"
      },
      "execution_count": 49,
      "outputs": [
        {
          "output_type": "execute_result",
          "data": {
            "text/plain": [
              "53"
            ]
          },
          "metadata": {},
          "execution_count": 49
        }
      ]
    },
    {
      "cell_type": "code",
      "source": [
        "danger"
      ],
      "metadata": {
        "colab": {
          "base_uri": "https://localhost:8080/"
        },
        "id": "-fLaTEDFCzXZ",
        "outputId": "a566641b-bd40-4a07-c658-bdbaf57b5dea"
      },
      "execution_count": 128,
      "outputs": [
        {
          "output_type": "execute_result",
          "data": {
            "text/plain": [
              "[(48, 50),\n",
              " (49, 48),\n",
              " (51, 52),\n",
              " (52, 48),\n",
              " (55, 52),\n",
              " (56, 48),\n",
              " (59, 49),\n",
              " (64, 52),\n",
              " (63, 48)]"
            ]
          },
          "metadata": {},
          "execution_count": 128
        }
      ]
    },
    {
      "cell_type": "code",
      "source": [
        "map = [  [\"N\",\"N\",\"N\",\"B\",\"N\",\"N\",\"N\"],\n",
        "         [\"N\",\"N\",\"B\",\"P\",\"B\",\"N\",\"N\"],\n",
        "         [\"N\",\"P\",\"N\",\"B\",\"N\",\"N\",\"N\"],\n",
        "         [\"N\",\"N\",\"N\",\"N\",\"N\",\"S\",\"N\"],\n",
        "         [\"N\",\"N\",\"B\",\"N\",\"S\",\"W\",\"S\"],\n",
        "         [\"N\",\"B\",\"P\",\"B\",\"N\",\"S\",\"N\"],\n",
        "         [\"N\",\"N\",\"B\",\"N\",\"N\",\"N\",\"N\"]]\n",
        "map[3][3]"
      ],
      "metadata": {
        "colab": {
          "base_uri": "https://localhost:8080/",
          "height": 36
        },
        "id": "GfhFMAlGIt9v",
        "outputId": "be17b852-84f5-4c79-b179-b31486266585"
      },
      "execution_count": null,
      "outputs": [
        {
          "output_type": "execute_result",
          "data": {
            "text/plain": [
              "'P'"
            ],
            "application/vnd.google.colaboratory.intrinsic+json": {
              "type": "string"
            }
          },
          "metadata": {},
          "execution_count": 211
        }
      ]
    }
  ]
}